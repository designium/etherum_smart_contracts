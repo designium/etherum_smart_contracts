{
 "cells": [
  {
   "cell_type": "code",
   "execution_count": 1,
   "metadata": {},
   "outputs": [],
   "source": [
    "var Web3 = require('web3');\n",
    "var Eth = require('ethereum.js');\n",
    "\n",
    "var Web3 = require('web3');\n",
    "var web3 = new Web3();"
   ]
  },
  {
   "cell_type": "code",
   "execution_count": 2,
   "metadata": {},
   "outputs": [
    {
     "data": {
      "text/plain": [
       "true"
      ]
     },
     "execution_count": 2,
     "metadata": {},
     "output_type": "execute_result"
    }
   ],
   "source": [
    "web3.setProvider(new web3.providers.HttpProvider(\"http://localhost:8545\"));"
   ]
  },
  {
   "cell_type": "code",
   "execution_count": 3,
   "metadata": {},
   "outputs": [],
   "source": [
    "var version = web3.version.api;"
   ]
  },
  {
   "cell_type": "code",
   "execution_count": 4,
   "metadata": {},
   "outputs": [
    {
     "name": "stdout",
     "output_type": "stream",
     "text": [
      "undefined\n"
     ]
    }
   ],
   "source": [
    "console.log(version);"
   ]
  },
  {
   "cell_type": "code",
   "execution_count": 5,
   "metadata": {},
   "outputs": [],
   "source": [
    "var nodeVersion = web3.version.node;"
   ]
  },
  {
   "cell_type": "code",
   "execution_count": 6,
   "metadata": {},
   "outputs": [],
   "source": [
    "var print = function (str) {\n",
    "    console.log(str)\n",
    "};"
   ]
  },
  {
   "cell_type": "code",
   "execution_count": 7,
   "metadata": {},
   "outputs": [
    {
     "name": "stdout",
     "output_type": "stream",
     "text": [
      "1.0.0-beta.22\n"
     ]
    }
   ],
   "source": [
    "print(web3.version);"
   ]
  },
  {
   "cell_type": "code",
   "execution_count": 8,
   "metadata": {},
   "outputs": [],
   "source": [
    "var balance = web3.eth.getBalance('0x398e42da3254a22e13abdbb4c68998bcdb3e2f1d')\n"
   ]
  },
  {
   "cell_type": "code",
   "execution_count": 9,
   "metadata": {},
   "outputs": [
    {
     "name": "stdout",
     "output_type": "stream",
     "text": [
      "Promise {\n",
      "  _bitField: 33554432,\n",
      "  _fulfillmentHandler0: undefined,\n",
      "  _rejectionHandler0: '100000000000000000000',\n",
      "  _promise0: undefined,\n",
      "  _receiver0: undefined }\n"
     ]
    }
   ],
   "source": [
    "print(balance);"
   ]
  },
  {
   "cell_type": "code",
   "execution_count": 10,
   "metadata": {},
   "outputs": [
    {
     "ename": "TypeError",
     "evalue": "web3.isConnected is not a function",
     "output_type": "error",
     "traceback": [
      "evalmachine.<anonymous>:1",
      "web3.isConnected();",
      "     ^",
      "",
      "TypeError: web3.isConnected is not a function",
      "    at evalmachine.<anonymous>:1:6",
      "    at ContextifyScript.Script.runInThisContext (vm.js:50:33)",
      "    at Object.runInThisContext (vm.js:139:38)",
      "    at run ([eval]:775:15)",
      "    at onRunRequest ([eval]:620:18)",
      "    at onMessage ([eval]:588:13)",
      "    at emitTwo (events.js:125:13)",
      "    at process.emit (events.js:213:7)",
      "    at emit (internal/child_process.js:774:12)",
      "    at _combinedTickCallback (internal/process/next_tick.js:141:11)",
      "    at process._tickCallback (internal/process/next_tick.js:180:9)"
     ]
    }
   ],
   "source": [
    "web3.isConnected();"
   ]
  },
  {
   "cell_type": "code",
   "execution_count": null,
   "metadata": {},
   "outputs": [],
   "source": []
  }
 ],
 "metadata": {
  "kernelspec": {
   "display_name": "Javascript (Node.js)",
   "language": "javascript",
   "name": "javascript"
  },
  "language_info": {
   "file_extension": ".js",
   "mimetype": "application/javascript",
   "name": "javascript",
   "version": "8.6.0"
  }
 },
 "nbformat": 4,
 "nbformat_minor": 2
}
