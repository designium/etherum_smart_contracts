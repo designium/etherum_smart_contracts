{
 "cells": [
  {
   "cell_type": "code",
   "execution_count": 1,
   "metadata": {},
   "outputs": [
    {
     "data": {
      "text/plain": [
       "Web3 {\n",
       "  currentProvider: [Getter/Setter],\n",
       "  _requestManager: \n",
       "   RequestManager {\n",
       "     provider: HttpProvider { host: 'http://localhost:8545', timeout: 0, connected: false },\n",
       "     providers: \n",
       "      { WebsocketProvider: [Function: WebsocketProvider],\n",
       "        HttpProvider: [Function: HttpProvider],\n",
       "        IpcProvider: [Function: IpcProvider] },\n",
       "     subscriptions: {} },\n",
       "  givenProvider: null,\n",
       "  providers: \n",
       "   { WebsocketProvider: [Function: WebsocketProvider],\n",
       "     HttpProvider: [Function: HttpProvider],\n",
       "     IpcProvider: [Function: IpcProvider] },\n",
       "  _provider: HttpProvider { host: 'http://localhost:8545', timeout: 0, connected: false },\n",
       "  setProvider: [Function],\n",
       "  BatchRequest: [Function: bound Batch],\n",
       "  extend: \n",
       "   { [Function: ex]\n",
       "     formatters: \n",
       "      { inputDefaultBlockNumberFormatter: [Function: inputDefaultBlockNumberFormatter],\n",
       "        inputBlockNumberFormatter: [Function: inputBlockNumberFormatter],\n",
       "        inputCallFormatter: [Function: inputCallFormatter],\n",
       "        inputTransactionFormatter: [Function: inputTransactionFormatter],\n",
       "        inputAddressFormatter: [Function: inputAddressFormatter],\n",
       "        inputPostFormatter: [Function: inputPostFormatter],\n",
       "        inputLogFormatter: [Function: inputLogFormatter],\n",
       "        inputSignFormatter: [Function: inputSignFormatter],\n",
       "        outputBigNumberFormatter: [Function: outputBigNumberFormatter],\n",
       "        outputTransactionFormatter: [Function: outputTransactionFormatter],\n",
       "        outputTransactionReceiptFormatter: [Function: outputTransactionReceiptFormatter],\n",
       "        outputBlockFormatter: [Function: outputBlockFormatter],\n",
       "        outputLogFormatter: [Function: outputLogFormatter],\n",
       "        outputPostFormatter: [Function: outputPostFormatter],\n",
       "        outputSyncingFormatter: [Function: outputSyncingFormatter] },\n",
       "     utils: \n",
       "      { _fireError: [Function: _fireError],\n",
       "        _jsonInterfaceMethodToString: [Function: _jsonInterfaceMethodToString],\n",
       "        randomHex: [Function: randomHex],\n",
       "        _: [Object],\n",
       "        BN: [Object],\n",
       "        isBN: [Function: isBN],\n",
       "        isBigNumber: [Function: isBigNumber],\n",
       "        isHex: [Function: isHex],\n",
       "        isHexStrict: [Function: isHexStrict],\n",
       "        sha3: [Object],\n",
       "        keccak256: [Object],\n",
       "        soliditySha3: [Function: soliditySha3],\n",
       "        isAddress: [Function: isAddress],\n",
       "        checkAddressChecksum: [Function: checkAddressChecksum],\n",
       "        toChecksumAddress: [Function: toChecksumAddress],\n",
       "        toHex: [Function: toHex],\n",
       "        toBN: [Function: toBN],\n",
       "        bytesToHex: [Function: bytesToHex],\n",
       "        hexToBytes: [Function: hexToBytes],\n",
       "        hexToNumberString: [Function: hexToNumberString],\n",
       "        hexToNumber: [Function: hexToNumber],\n",
       "        toDecimal: [Function: hexToNumber],\n",
       "        numberToHex: [Function: numberToHex],\n",
       "        fromDecimal: [Function: numberToHex],\n",
       "        hexToUtf8: [Function: hexToUtf8],\n",
       "        hexToString: [Function: hexToUtf8],\n",
       "        toUtf8: [Function: hexToUtf8],\n",
       "        utf8ToHex: [Function: utf8ToHex],\n",
       "        stringToHex: [Function: utf8ToHex],\n",
       "        fromUtf8: [Function: utf8ToHex],\n",
       "        hexToAscii: [Function: hexToAscii],\n",
       "        toAscii: [Function: hexToAscii],\n",
       "        asciiToHex: [Function: asciiToHex],\n",
       "        fromAscii: [Function: asciiToHex],\n",
       "        unitMap: [Object],\n",
       "        toWei: [Function: toWei],\n",
       "        fromWei: [Function: fromWei],\n",
       "        padLeft: [Function: leftPad],\n",
       "        leftPad: [Function: leftPad],\n",
       "        padRight: [Function: rightPad],\n",
       "        rightPad: [Function: rightPad],\n",
       "        toTwosComplement: [Function: toTwosComplement] },\n",
       "     Method: [Function: Method] },\n",
       "  version: '1.0.0-beta.23',\n",
       "  utils: \n",
       "   { _fireError: [Function: _fireError],\n",
       "     _jsonInterfaceMethodToString: [Function: _jsonInterfaceMethodToString],\n",
       "     randomHex: [Function: randomHex],\n",
       "     _: \n",
       "      { [Function: _]\n",
       "        _: [Circular],\n",
       "        VERSION: '1.8.3',\n",
       "        iteratee: [Function],\n",
       "        forEach: [Function],\n",
       "        each: [Function],\n",
       "        collect: [Function],\n",
       "        map: [Function],\n",
       "        inject: [Function],\n",
       "        foldl: [Function],\n",
       "        reduce: [Function],\n",
       "        foldr: [Function],\n",
       "        reduceRight: [Function],\n",
       "        detect: [Function],\n",
       "        find: [Function],\n",
       "        select: [Function],\n",
       "        filter: [Function],\n",
       "        reject: [Function],\n",
       "        all: [Function],\n",
       "        every: [Function],\n",
       "        any: [Function],\n",
       "        some: [Function],\n",
       "        include: [Function],\n",
       "        includes: [Function],\n",
       "        contains: [Function],\n",
       "        invoke: [Function],\n",
       "        pluck: [Function],\n",
       "        where: [Function],\n",
       "        findWhere: [Function],\n",
       "        max: [Function],\n",
       "        min: [Function],\n",
       "        shuffle: [Function],\n",
       "        sample: [Function],\n",
       "        sortBy: [Function],\n",
       "        groupBy: [Function],\n",
       "        indexBy: [Function],\n",
       "        countBy: [Function],\n",
       "        toArray: [Function],\n",
       "        size: [Function],\n",
       "        partition: [Function],\n",
       "        take: [Function],\n",
       "        head: [Function],\n",
       "        first: [Function],\n",
       "        initial: [Function],\n",
       "        last: [Function],\n",
       "        drop: [Function],\n",
       "        tail: [Function],\n",
       "        rest: [Function],\n",
       "        compact: [Function],\n",
       "        flatten: [Function],\n",
       "        without: [Function],\n",
       "        unique: [Function],\n",
       "        uniq: [Function],\n",
       "        union: [Function],\n",
       "        intersection: [Function],\n",
       "        difference: [Function],\n",
       "        zip: [Function],\n",
       "        unzip: [Function],\n",
       "        object: [Function],\n",
       "        findIndex: [Function],\n",
       "        findLastIndex: [Function],\n",
       "        sortedIndex: [Function],\n",
       "        indexOf: [Function],\n",
       "        lastIndexOf: [Function],\n",
       "        range: [Function],\n",
       "        bind: [Function],\n",
       "        partial: [Function],\n",
       "        bindAll: [Function],\n",
       "        memoize: [Function],\n",
       "        delay: [Function],\n",
       "        defer: [Function: bound],\n",
       "        throttle: [Function],\n",
       "        debounce: [Function],\n",
       "        wrap: [Function],\n",
       "        negate: [Function],\n",
       "        compose: [Function],\n",
       "        after: [Function],\n",
       "        before: [Function],\n",
       "        once: [Function: bound],\n",
       "        keys: [Function],\n",
       "        allKeys: [Function],\n",
       "        values: [Function],\n",
       "        mapObject: [Function],\n",
       "        pairs: [Function],\n",
       "        invert: [Function],\n",
       "        methods: [Function],\n",
       "        functions: [Function],\n",
       "        extend: [Function],\n",
       "        assign: [Function],\n",
       "        extendOwn: [Function],\n",
       "        findKey: [Function],\n",
       "        pick: [Function],\n",
       "        omit: [Function],\n",
       "        defaults: [Function],\n",
       "        create: [Function],\n",
       "        clone: [Function],\n",
       "        tap: [Function],\n",
       "        isMatch: [Function],\n",
       "        isEqual: [Function],\n",
       "        isEmpty: [Function],\n",
       "        isElement: [Function],\n",
       "        isArray: [Function: isArray],\n",
       "        isObject: [Function],\n",
       "        isArguments: [Function],\n",
       "        isFunction: [Function],\n",
       "        isString: [Function],\n",
       "        isNumber: [Function],\n",
       "        isDate: [Function],\n",
       "        isRegExp: [Function],\n",
       "        isError: [Function],\n",
       "        isFinite: [Function],\n",
       "        isNaN: [Function],\n",
       "        isBoolean: [Function],\n",
       "        isNull: [Function],\n",
       "        isUndefined: [Function],\n",
       "        has: [Function],\n",
       "        noConflict: [Function],\n",
       "        identity: [Function],\n",
       "        constant: [Function],\n",
       "        noop: [Function],\n",
       "        property: [Function: property],\n",
       "        propertyOf: [Function],\n",
       "        matches: [Function],\n",
       "        matcher: [Function],\n",
       "        times: [Function],\n",
       "        random: [Function],\n",
       "        now: [Function: now],\n",
       "        escape: [Function],\n",
       "        unescape: [Function],\n",
       "        result: [Function],\n",
       "        uniqueId: [Function],\n",
       "        templateSettings: [Object],\n",
       "        template: [Function],\n",
       "        chain: [Function],\n",
       "        mixin: [Function] },\n",
       "     BN: \n",
       "      { [Function: BN]\n",
       "        BN: [Circular],\n",
       "        wordSize: 26,\n",
       "        isBN: [Function: isBN],\n",
       "        max: [Function: max],\n",
       "        min: [Function: min],\n",
       "        red: [Function: red],\n",
       "        _prime: [Function: prime],\n",
       "        mont: [Function: mont] },\n",
       "     isBN: [Function: isBN],\n",
       "     isBigNumber: [Function: isBigNumber],\n",
       "     isHex: [Function: isHex],\n",
       "     isHexStrict: [Function: isHexStrict],\n",
       "     sha3: { [Function: sha3] _Hash: [Object] },\n",
       "     keccak256: { [Function: sha3] _Hash: [Object] },\n",
       "     soliditySha3: [Function: soliditySha3],\n",
       "     isAddress: [Function: isAddress],\n",
       "     checkAddressChecksum: [Function: checkAddressChecksum],\n",
       "     toChecksumAddress: [Function: toChecksumAddress],\n",
       "     toHex: [Function: toHex],\n",
       "     toBN: [Function: toBN],\n",
       "     bytesToHex: [Function: bytesToHex],\n",
       "     hexToBytes: [Function: hexToBytes],\n",
       "     hexToNumberString: [Function: hexToNumberString],\n",
       "     hexToNumber: [Function: hexToNumber],\n",
       "     toDecimal: [Function: hexToNumber],\n",
       "     numberToHex: [Function: numberToHex],\n",
       "     fromDecimal: [Function: numberToHex],\n",
       "     hexToUtf8: [Function: hexToUtf8],\n",
       "     hexToString: [Function: hexToUtf8],\n",
       "     toUtf8: [Function: hexToUtf8],\n",
       "     utf8ToHex: [Function: utf8ToHex],\n",
       "     stringToHex: [Function: utf8ToHex],\n",
       "     fromUtf8: [Function: utf8ToHex],\n",
       "     hexToAscii: [Function: hexToAscii],\n",
       "     toAscii: [Function: hexToAscii],\n",
       "     asciiToHex: [Function: asciiToHex],\n",
       "     fromAscii: [Function: asciiToHex],\n",
       "     unitMap: \n",
       "      { noether: '0',\n",
       "        wei: '1',\n",
       "        kwei: '1000',\n",
       "        Kwei: '1000',\n",
       "        babbage: '1000',\n",
       "        femtoether: '1000',\n",
       "        mwei: '1000000',\n",
       "        Mwei: '1000000',\n",
       "        lovelace: '1000000',\n",
       "        picoether: '1000000',\n",
       "        gwei: '1000000000',\n",
       "        Gwei: '1000000000',\n",
       "        shannon: '1000000000',\n",
       "        nanoether: '1000000000',\n",
       "        nano: '1000000000',\n",
       "        szabo: '1000000000000',\n",
       "        microether: '1000000000000',\n",
       "        micro: '1000000000000',\n",
       "        finney: '1000000000000000',\n",
       "        milliether: '1000000000000000',\n",
       "        milli: '1000000000000000',\n",
       "        ether: '1000000000000000000',\n",
       "        kether: '1000000000000000000000',\n",
       "        grand: '1000000000000000000000',\n",
       "        mether: '1000000000000000000000000',\n",
       "        gether: '1000000000000000000000000000',\n",
       "        tether: '1000000000000000000000000000000' },\n",
       "     toWei: [Function: toWei],\n",
       "     fromWei: [Function: fromWei],\n",
       "     padLeft: [Function: leftPad],\n",
       "     leftPad: [Function: leftPad],\n",
       "     padRight: [Function: rightPad],\n",
       "     rightPad: [Function: rightPad],\n",
       "     toTwosComplement: [Function: toTwosComplement] },\n",
       "  eth: \n",
       "   Eth {\n",
       "     currentProvider: [Getter/Setter],\n",
       "     _requestManager: RequestManager { provider: [Object], providers: [Object], subscriptions: {} },\n",
       "     givenProvider: null,\n",
       "     providers: \n",
       "      { WebsocketProvider: [Function: WebsocketProvider],\n",
       "        HttpProvider: [Function: HttpProvider],\n",
       "        IpcProvider: [Function: IpcProvider] },\n",
       "     _provider: HttpProvider { host: 'http://localhost:8545', timeout: 0, connected: false },\n",
       "     setProvider: [Function],\n",
       "     BatchRequest: [Function: bound Batch],\n",
       "     extend: \n",
       "      { [Function: ex]\n",
       "        formatters: [Object],\n",
       "        utils: [Object],\n",
       "        Method: [Function: Method] },\n",
       "     defaultAccount: [Getter/Setter],\n",
       "     defaultBlock: [Getter/Setter],\n",
       "     clearSubscriptions: [Function],\n",
       "     net: \n",
       "      Net {\n",
       "        currentProvider: [Getter/Setter],\n",
       "        _requestManager: [Object],\n",
       "        givenProvider: null,\n",
       "        providers: [Object],\n",
       "        _provider: [Object],\n",
       "        setProvider: [Function],\n",
       "        BatchRequest: [Function: bound Batch],\n",
       "        extend: [Object],\n",
       "        getId: [Object],\n",
       "        isListening: [Object],\n",
       "        getPeerCount: [Object],\n",
       "        getNetworkType: [Function: bound getNetworkType] },\n",
       "     accounts: \n",
       "      Accounts {\n",
       "        currentProvider: [Getter/Setter],\n",
       "        _requestManager: [Object],\n",
       "        givenProvider: null,\n",
       "        providers: [Object],\n",
       "        _provider: [Object],\n",
       "        setProvider: [Function],\n",
       "        _ethereumCall: [Object],\n",
       "        wallet: [Object] },\n",
       "     personal: \n",
       "      Personal {\n",
       "        currentProvider: [Getter/Setter],\n",
       "        _requestManager: [Object],\n",
       "        givenProvider: null,\n",
       "        providers: [Object],\n",
       "        _provider: [Object],\n",
       "        setProvider: [Function],\n",
       "        BatchRequest: [Function: bound Batch],\n",
       "        extend: [Object],\n",
       "        net: [Object],\n",
       "        defaultAccount: [Getter/Setter],\n",
       "        defaultBlock: [Getter/Setter],\n",
       "        getAccounts: [Object],\n",
       "        newAccount: [Object],\n",
       "        unlockAccount: [Object],\n",
       "        lockAccount: [Object],\n",
       "        importRawKey: [Object],\n",
       "        sendTransaction: [Object],\n",
       "        sign: [Object],\n",
       "        ecRecover: [Object] },\n",
       "     Contract: \n",
       "      { [Function: Contract]\n",
       "        setProvider: [Function],\n",
       "        defaultAccount: null,\n",
       "        defaultBlock: 'latest',\n",
       "        currentProvider: [Getter/Setter],\n",
       "        _requestManager: [Object],\n",
       "        givenProvider: null,\n",
       "        providers: [Object],\n",
       "        _provider: [Object],\n",
       "        BatchRequest: [Function: bound Batch],\n",
       "        extend: [Object],\n",
       "        _ethAccounts: [Object] },\n",
       "     Iban: \n",
       "      { [Function: Iban]\n",
       "        toAddress: [Function],\n",
       "        toIban: [Function],\n",
       "        fromAddress: [Function],\n",
       "        fromBban: [Function],\n",
       "        createIndirect: [Function],\n",
       "        isValid: [Function] },\n",
       "     abi: ABICoder { _types: [Array] },\n",
       "     getProtocolVersion: \n",
       "      { [Function: send]\n",
       "        method: [Object],\n",
       "        request: [Function: bound ],\n",
       "        call: 'eth_protocolVersion' },\n",
       "     getCoinbase: \n",
       "      { [Function: send]\n",
       "        method: [Object],\n",
       "        request: [Function: bound ],\n",
       "        call: 'eth_coinbase' },\n",
       "     isMining: \n",
       "      { [Function: send]\n",
       "        method: [Object],\n",
       "        request: [Function: bound ],\n",
       "        call: 'eth_mining' },\n",
       "     getHashrate: \n",
       "      { [Function: send]\n",
       "        method: [Object],\n",
       "        request: [Function: bound ],\n",
       "        call: 'eth_hashrate' },\n",
       "     isSyncing: \n",
       "      { [Function: send]\n",
       "        method: [Object],\n",
       "        request: [Function: bound ],\n",
       "        call: 'eth_syncing' },\n",
       "     getGasPrice: \n",
       "      { [Function: send]\n",
       "        method: [Object],\n",
       "        request: [Function: bound ],\n",
       "        call: 'eth_gasPrice' },\n",
       "     getAccounts: \n",
       "      { [Function: send]\n",
       "        method: [Object],\n",
       "        request: [Function: bound ],\n",
       "        call: 'eth_accounts' },\n",
       "     getBlockNumber: \n",
       "      { [Function: send]\n",
       "        method: [Object],\n",
       "        request: [Function: bound ],\n",
       "        call: 'eth_blockNumber' },\n",
       "     getBalance: \n",
       "      { [Function: send]\n",
       "        method: [Object],\n",
       "        request: [Function: bound ],\n",
       "        call: 'eth_getBalance' },\n",
       "     getStorageAt: \n",
       "      { [Function: send]\n",
       "        method: [Object],\n",
       "        request: [Function: bound ],\n",
       "        call: 'eth_getStorageAt' },\n",
       "     getCode: \n",
       "      { [Function: send]\n",
       "        method: [Object],\n",
       "        request: [Function: bound ],\n",
       "        call: 'eth_getCode' },\n",
       "     getBlock: \n",
       "      { [Function: send]\n",
       "        method: [Object],\n",
       "        request: [Function: bound ],\n",
       "        call: [Function: blockCall] },\n",
       "     getUncle: \n",
       "      { [Function: send]\n",
       "        method: [Object],\n",
       "        request: [Function: bound ],\n",
       "        call: [Function: uncleCall] },\n",
       "     getBlockTransactionCount: \n",
       "      { [Function: send]\n",
       "        method: [Object],\n",
       "        request: [Function: bound ],\n",
       "        call: [Function: getBlockTransactionCountCall] },\n",
       "     getBlockUncleCount: \n",
       "      { [Function: send]\n",
       "        method: [Object],\n",
       "        request: [Function: bound ],\n",
       "        call: [Function: uncleCountCall] },\n",
       "     getTransaction: \n",
       "      { [Function: send]\n",
       "        method: [Object],\n",
       "        request: [Function: bound ],\n",
       "        call: 'eth_getTransactionByHash' },\n",
       "     getTransactionFromBlock: \n",
       "      { [Function: send]\n",
       "        method: [Object],\n",
       "        request: [Function: bound ],\n",
       "        call: [Function: transactionFromBlockCall] },\n",
       "     getTransactionReceipt: \n",
       "      { [Function: send]\n",
       "        method: [Object],\n",
       "        request: [Function: bound ],\n",
       "        call: 'eth_getTransactionReceipt' },\n",
       "     getTransactionCount: \n",
       "      { [Function: send]\n",
       "        method: [Object],\n",
       "        request: [Function: bound ],\n",
       "        call: 'eth_getTransactionCount' },\n",
       "     sendSignedTransaction: \n",
       "      { [Function: send]\n",
       "        method: [Object],\n",
       "        request: [Function: bound ],\n",
       "        call: 'eth_sendRawTransaction' },\n",
       "     signTransaction: \n",
       "      { [Function: send]\n",
       "        method: [Object],\n",
       "        request: [Function: bound ],\n",
       "        call: 'eth_signTransaction' },\n",
       "     sendTransaction: \n",
       "      { [Function: send]\n",
       "        method: [Object],\n",
       "        request: [Function: bound ],\n",
       "        call: 'eth_sendTransaction' },\n",
       "     sign: \n",
       "      { [Function: send]\n",
       "        method: [Object],\n",
       "        request: [Function: bound ],\n",
       "        call: 'eth_sign' },\n",
       "     call: \n",
       "      { [Function: send]\n",
       "        method: [Object],\n",
       "        request: [Function: bound ],\n",
       "        call: 'eth_call' },\n",
       "     estimateGas: \n",
       "      { [Function: send]\n",
       "        method: [Object],\n",
       "        request: [Function: bound ],\n",
       "        call: 'eth_estimateGas' },\n",
       "     getCompilers: \n",
       "      { [Function: send]\n",
       "        method: [Object],\n",
       "        request: [Function: bound ],\n",
       "        call: 'eth_getCompilers' },\n",
       "     compile: { solidity: [Object], lll: [Object], serpent: [Object] },\n",
       "     submitWork: \n",
       "      { [Function: send]\n",
       "        method: [Object],\n",
       "        request: [Function: bound ],\n",
       "        call: 'eth_submitWork' },\n",
       "     getWork: \n",
       "      { [Function: send]\n",
       "        method: [Object],\n",
       "        request: [Function: bound ],\n",
       "        call: 'eth_getWork' },\n",
       "     getPastLogs: \n",
       "      { [Function: send]\n",
       "        method: [Object],\n",
       "        request: [Function: bound ],\n",
       "        call: 'eth_getLogs' },\n",
       "     subscribe: { [Function] call: undefined } },\n",
       "  shh: \n",
       "   Shh {\n",
       "     currentProvider: [Getter/Setter],\n",
       "     _requestManager: RequestManager { provider: [Object], providers: [Object], subscriptions: {} },\n",
       "     givenProvider: null,\n",
       "     providers: \n",
       "      { WebsocketProvider: [Function: WebsocketProvider],\n",
       "        HttpProvider: [Function: HttpProvider],\n",
       "        IpcProvider: [Function: IpcProvider] },\n",
       "     _provider: HttpProvider { host: 'http://localhost:8545', timeout: 0, connected: false },\n",
       "     setProvider: [Function],\n",
       "     BatchRequest: [Function: bound Batch],\n",
       "     extend: \n",
       "      { [Function: ex]\n",
       "        formatters: [Object],\n",
       "        utils: [Object],\n",
       "        Method: [Function: Method] },\n",
       "     clearSubscriptions: [Function],\n",
       "     net: \n",
       "      Net {\n",
       "        currentProvider: [Getter/Setter],\n",
       "        _requestManager: [Object],\n",
       "        givenProvider: null,\n",
       "        providers: [Object],\n",
       "        _provider: [Object],\n",
       "        setProvider: [Function],\n",
       "        BatchRequest: [Function: bound Batch],\n",
       "        extend: [Object],\n",
       "        getId: [Object],\n",
       "        isListening: [Object],\n",
       "        getPeerCount: [Object] },\n",
       "     subscribe: { [Function] call: undefined },\n",
       "     getVersion: \n",
       "      { [Function: send]\n",
       "        method: [Object],\n",
       "        request: [Function: bound ],\n",
       "        call: 'shh_version' },\n",
       "     getInfo: \n",
       "      { [Function: send]\n",
       "        method: [Object],\n",
       "        request: [Function: bound ],\n",
       "        call: 'shh_info' },\n",
       "     setMaxMessageSize: \n",
       "      { [Function: send]\n",
       "        method: [Object],\n",
       "        request: [Function: bound ],\n",
       "        call: 'shh_setMaxMessageSize' },\n",
       "     setMinPoW: \n",
       "      { [Function: send]\n",
       "        method: [Object],\n",
       "        request: [Function: bound ],\n",
       "        call: 'shh_setMinPoW' },\n",
       "     markTrustedPeer: \n",
       "      { [Function: send]\n",
       "        method: [Object],\n",
       "        request: [Function: bound ],\n",
       "        call: 'shh_markTrustedPeer' },\n",
       "     newKeyPair: \n",
       "      { [Function: send]\n",
       "        method: [Object],\n",
       "        request: [Function: bound ],\n",
       "        call: 'shh_newKeyPair' },\n",
       "     addPrivateKey: \n",
       "      { [Function: send]\n",
       "        method: [Object],\n",
       "        request: [Function: bound ],\n",
       "        call: 'shh_addPrivateKey' },\n",
       "     deleteKeyPair: \n",
       "      { [Function: send]\n",
       "        method: [Object],\n",
       "        request: [Function: bound ],\n",
       "        call: 'shh_deleteKeyPair' },\n",
       "     hasKeyPair: \n",
       "      { [Function: send]\n",
       "        method: [Object],\n",
       "        request: [Function: bound ],\n",
       "        call: 'shh_hasKeyPair' },\n",
       "     getPublicKey: \n",
       "      { [Function: send]\n",
       "        method: [Object],\n",
       "        request: [Function: bound ],\n",
       "        call: 'shh_getPublicKey' },\n",
       "     getPrivateKey: \n",
       "      { [Function: send]\n",
       "        method: [Object],\n",
       "        request: [Function: bound ],\n",
       "        call: 'shh_getPrivateKey' },\n",
       "     newSymKey: \n",
       "      { [Function: send]\n",
       "        method: [Object],\n",
       "        request: [Function: bound ],\n",
       "        call: 'shh_newSymKey' },\n",
       "     addSymKey: \n",
       "      { [Function: send]\n",
       "        method: [Object],\n",
       "        request: [Function: bound ],\n",
       "        call: 'shh_addSymKey' },\n",
       "     generateSymKeyFromPassword: \n",
       "      { [Function: send]\n",
       "        method: [Object],\n",
       "        request: [Function: bound ],\n",
       "        call: 'shh_generateSymKeyFromPassword' },\n",
       "     hasSymKey: \n",
       "      { [Function: send]\n",
       "        method: [Object],\n",
       "        request: [Function: bound ],\n",
       "        call: 'shh_hasSymKey' },\n",
       "     getSymKey: \n",
       "      { [Function: send]\n",
       "        method: [Object],\n",
       "        request: [Function: bound ],\n",
       "        call: 'shh_getSymKey' },\n",
       "     deleteSymKey: \n",
       "      { [Function: send]\n",
       "        method: [Object],\n",
       "        request: [Function: bound ],\n",
       "        call: 'shh_deleteSymKey' },\n",
       "     newMessageFilter: \n",
       "      { [Function: send]\n",
       "        method: [Object],\n",
       "        request: [Function: bound ],\n",
       "        call: 'shh_newMessageFilter' },\n",
       "     getFilterMessages: \n",
       "      { [Function: send]\n",
       "        method: [Object],\n",
       "        request: [Function: bound ],\n",
       "        call: 'shh_getFilterMessages' },\n",
       "     deleteMessageFilter: \n",
       "      { [Function: send]\n",
       "        method: [Object],\n",
       "        request: [Function: bound ],\n",
       "        call: 'shh_deleteMessageFilter' },\n",
       "     post: \n",
       "      { [Function: send]\n",
       "        method: [Object],\n",
       "        request: [Function: bound ],\n",
       "        call: 'shh_post' } },\n",
       "  bzz: Bzz { givenProvider: null, currentProvider: null } }"
      ]
     },
     "execution_count": 1,
     "metadata": {},
     "output_type": "execute_result"
    }
   ],
   "source": [
    "require('web3');\n",
    "var Web3 = require('web3');\n",
    "\n",
    "if (typeof web3 !== 'undefined') {\n",
    "  web3 = new Web3(web3.currentProvider);\n",
    "} else {\n",
    "  // set the provider you want from Web3.providers\n",
    "  web3 = new Web3(new Web3.providers.HttpProvider(\"http://localhost:8545\"));\n",
    "}"
   ]
  },
  {
   "cell_type": "code",
   "execution_count": 2,
   "metadata": {},
   "outputs": [],
   "source": [
    "async function fetchAccounts() {\n",
    "    let accs = await web3.eth.getAccounts();\n",
    "    return accs;\n",
    "}; \n"
   ]
  },
  {
   "cell_type": "code",
   "execution_count": 3,
   "metadata": {},
   "outputs": [],
   "source": [
    "var b = fetchAccounts().then(function(result){b = result});"
   ]
  },
  {
   "cell_type": "code",
   "execution_count": 4,
   "metadata": {},
   "outputs": [
    {
     "data": {
      "text/plain": [
       "[ '0xc856da17cF7ADbDfCFfce601C0a574A289cf079f',\n",
       "  '0x89fbEfB7c9DC8e1402aFE301D85AB89a90BB4D2f',\n",
       "  '0xb80ac12a44A577087cC2F9C069932Ae62fB47145',\n",
       "  '0x01aA23CE2Df84658Fac31be515daDf9F7240B0C3',\n",
       "  '0x27197dC26a53eA74520A8987D6a019cB96Dc12fD',\n",
       "  '0xd78C3c34140534FE1c10E657B2F96f2EB8e3D467',\n",
       "  '0x71eC77F8e06963eF88ac3147D1B609bB584c9907',\n",
       "  '0xFd70660B0d5eE1Ba3840D241EEaD104b1F167919',\n",
       "  '0x60E68c1Dd58B798F89Fe1faB6B2c6D369AE73419',\n",
       "  '0x49144AF5e5C0bbB6435D7E2e000EFFdc1782d892' ]"
      ]
     },
     "execution_count": 4,
     "metadata": {},
     "output_type": "execute_result"
    }
   ],
   "source": [
    "b"
   ]
  },
  {
   "cell_type": "code",
   "execution_count": 5,
   "metadata": {},
   "outputs": [],
   "source": [
    "async function balance() {\n",
    "    let bal = await web3.eth.getBalance(b[0]);\n",
    "    return bal;\n",
    "};"
   ]
  },
  {
   "cell_type": "code",
   "execution_count": 6,
   "metadata": {
    "scrolled": true
   },
   "outputs": [],
   "source": [
    "var c = balance().then(function(result){c = result});"
   ]
  },
  {
   "cell_type": "code",
   "execution_count": 7,
   "metadata": {},
   "outputs": [
    {
     "data": {
      "text/plain": [
       "'100000000000000000000'"
      ]
     },
     "execution_count": 7,
     "metadata": {},
     "output_type": "execute_result"
    }
   ],
   "source": [
    "c"
   ]
  },
  {
   "cell_type": "code",
   "execution_count": 8,
   "metadata": {},
   "outputs": [],
   "source": [
    "async function blockNumber() {\n",
    "    let number = await web3.eth.getBlockNumber();\n",
    "    return number;\n",
    "};"
   ]
  },
  {
   "cell_type": "code",
   "execution_count": 9,
   "metadata": {},
   "outputs": [],
   "source": [
    "var d = blockNumber().then(function(result){d = result});"
   ]
  },
  {
   "cell_type": "code",
   "execution_count": 10,
   "metadata": {},
   "outputs": [
    {
     "data": {
      "text/plain": [
       "0"
      ]
     },
     "execution_count": 10,
     "metadata": {},
     "output_type": "execute_result"
    }
   ],
   "source": [
    "d"
   ]
  },
  {
   "cell_type": "code",
   "execution_count": 11,
   "metadata": {},
   "outputs": [],
   "source": [
    "async function protocolVersion() {\n",
    "    let number = await web3.eth.getProtocolVersion();\n",
    "    return number;\n",
    "};"
   ]
  },
  {
   "cell_type": "code",
   "execution_count": 12,
   "metadata": {},
   "outputs": [],
   "source": [
    "var e = protocolVersion().then(function(result){e = result});"
   ]
  },
  {
   "cell_type": "code",
   "execution_count": 13,
   "metadata": {},
   "outputs": [
    {
     "data": {
      "text/plain": [
       "'63'"
      ]
     },
     "execution_count": 13,
     "metadata": {},
     "output_type": "execute_result"
    }
   ],
   "source": [
    "e"
   ]
  },
  {
   "cell_type": "code",
   "execution_count": 14,
   "metadata": {},
   "outputs": [],
   "source": [
    "async function gasPrice() {\n",
    "    let price = await web3.eth.getGasPrice;\n",
    "    return price;\n",
    "};"
   ]
  },
  {
   "cell_type": "code",
   "execution_count": 15,
   "metadata": {},
   "outputs": [
    {
     "data": {
      "text/plain": [
       "Promise { <pending> }"
      ]
     },
     "execution_count": 15,
     "metadata": {},
     "output_type": "execute_result"
    }
   ],
   "source": [
    "f = gasPrice().then(function(result){f = result});"
   ]
  },
  {
   "cell_type": "code",
   "execution_count": 16,
   "metadata": {},
   "outputs": [
    {
     "data": {
      "text/plain": [
       "{ [Function: send]\n",
       "  method: \n",
       "   Method {\n",
       "     name: 'getGasPrice',\n",
       "     call: 'eth_gasPrice',\n",
       "     params: 0,\n",
       "     inputFormatter: undefined,\n",
       "     outputFormatter: [Function: outputBigNumberFormatter],\n",
       "     transformPayload: undefined,\n",
       "     extraFormatters: undefined,\n",
       "     requestManager: RequestManager { provider: [Object], providers: [Object], subscriptions: {} },\n",
       "     accounts: \n",
       "      Accounts {\n",
       "        currentProvider: [Getter/Setter],\n",
       "        _requestManager: [Object],\n",
       "        givenProvider: null,\n",
       "        providers: [Object],\n",
       "        _provider: [Object],\n",
       "        setProvider: [Function],\n",
       "        _ethereumCall: [Object],\n",
       "        wallet: [Object] },\n",
       "     defaultBlock: 'latest',\n",
       "     defaultAccount: null },\n",
       "  request: [Function: bound ],\n",
       "  call: 'eth_gasPrice' }"
      ]
     },
     "execution_count": 16,
     "metadata": {},
     "output_type": "execute_result"
    }
   ],
   "source": [
    "f"
   ]
  },
  {
   "cell_type": "code",
   "execution_count": 17,
   "metadata": {},
   "outputs": [],
   "source": [
    "async function hashrate() {\n",
    "    let hashrate = await web3.eth.getHashrate;\n",
    "    return hashrate;\n",
    "};"
   ]
  },
  {
   "cell_type": "code",
   "execution_count": 18,
   "metadata": {},
   "outputs": [
    {
     "data": {
      "text/plain": [
       "Promise { <pending> }"
      ]
     },
     "execution_count": 18,
     "metadata": {},
     "output_type": "execute_result"
    }
   ],
   "source": [
    "g = hashrate().then(function(result){g = result});"
   ]
  },
  {
   "cell_type": "code",
   "execution_count": 19,
   "metadata": {},
   "outputs": [
    {
     "data": {
      "text/plain": [
       "{ [Function: send]\n",
       "  method: \n",
       "   Method {\n",
       "     name: 'getHashrate',\n",
       "     call: 'eth_hashrate',\n",
       "     params: 0,\n",
       "     inputFormatter: undefined,\n",
       "     outputFormatter: [Function: hexToNumber],\n",
       "     transformPayload: undefined,\n",
       "     extraFormatters: undefined,\n",
       "     requestManager: RequestManager { provider: [Object], providers: [Object], subscriptions: {} },\n",
       "     accounts: \n",
       "      Accounts {\n",
       "        currentProvider: [Getter/Setter],\n",
       "        _requestManager: [Object],\n",
       "        givenProvider: null,\n",
       "        providers: [Object],\n",
       "        _provider: [Object],\n",
       "        setProvider: [Function],\n",
       "        _ethereumCall: [Object],\n",
       "        wallet: [Object] },\n",
       "     defaultBlock: 'latest',\n",
       "     defaultAccount: null },\n",
       "  request: [Function: bound ],\n",
       "  call: 'eth_hashrate' }"
      ]
     },
     "execution_count": 19,
     "metadata": {},
     "output_type": "execute_result"
    }
   ],
   "source": [
    "g"
   ]
  },
  {
   "cell_type": "code",
   "execution_count": 20,
   "metadata": {},
   "outputs": [],
   "source": [
    "var sender = b[0];\n",
    "var receiver = b[1];\n",
    "\n",
    "var amount = web3.utils.toWei(0.1, \"ether\");"
   ]
  },
  {
   "cell_type": "code",
   "execution_count": 21,
   "metadata": {},
   "outputs": [
    {
     "data": {
      "text/plain": [
       "'100000000000000000'"
      ]
     },
     "execution_count": 21,
     "metadata": {},
     "output_type": "execute_result"
    }
   ],
   "source": [
    "amount"
   ]
  },
  {
   "cell_type": "code",
   "execution_count": 22,
   "metadata": {},
   "outputs": [],
   "source": [
    "async function balance( _acct) {\n",
    "    let bal = await web3.eth.getBalance(_acct);\n",
    "    return bal;\n",
    "};"
   ]
  },
  {
   "cell_type": "code",
   "execution_count": 42,
   "metadata": {},
   "outputs": [],
   "source": [
    "var sender_balance = balance(sender).then(function(result){sender_balance = result});\n",
    "var receiver_balance = balance(receiver).then(function(result){receiver_balance = result});\n"
   ]
  },
  {
   "cell_type": "code",
   "execution_count": 32,
   "metadata": {},
   "outputs": [
    {
     "data": {
      "text/plain": [
       "'99899580000000000000'"
      ]
     },
     "execution_count": 32,
     "metadata": {},
     "output_type": "execute_result"
    }
   ],
   "source": [
    "sender_balance"
   ]
  },
  {
   "cell_type": "code",
   "execution_count": 33,
   "metadata": {},
   "outputs": [
    {
     "data": {
      "text/plain": [
       "'100100000000000000000'"
      ]
     },
     "execution_count": 33,
     "metadata": {},
     "output_type": "execute_result"
    }
   ],
   "source": [
    "receiver_balance"
   ]
  },
  {
   "cell_type": "code",
   "execution_count": 26,
   "metadata": {},
   "outputs": [],
   "source": [
    "async function transfer(_from , _to, _value) {\n",
    "    let result = await web3.eth.sendTransaction({from: _from, to: _to, value: _value});\n",
    "    return result;\n",
    "};"
   ]
  },
  {
   "cell_type": "code",
   "execution_count": 38,
   "metadata": {},
   "outputs": [],
   "source": [
    "var transfer_completion = transfer(sender, receiver, amount).then(function(r){transfer_completion = r});\n"
   ]
  },
  {
   "cell_type": "code",
   "execution_count": 39,
   "metadata": {},
   "outputs": [
    {
     "data": {
      "text/plain": [
       "{ transactionHash: '0xef1f84d45a3bba864675007f6bea57a3ba54a31dfeb19a48e5c433af46ac2e70',\n",
       "  transactionIndex: 0,\n",
       "  blockHash: '0xe0286ab1754f248ce54edd1480cfa5dc25d87414196039d46fc22e9f91a7f781',\n",
       "  blockNumber: 2,\n",
       "  gasUsed: 21000,\n",
       "  cumulativeGasUsed: 21000,\n",
       "  contractAddress: null,\n",
       "  logs: [] }"
      ]
     },
     "execution_count": 39,
     "metadata": {},
     "output_type": "execute_result"
    }
   ],
   "source": [
    "transfer_completion"
   ]
  },
  {
   "cell_type": "code",
   "execution_count": 43,
   "metadata": {},
   "outputs": [],
   "source": [
    "function check_balances(){\n",
    "    console.log(sender_balance);\n",
    "    console.log(receiver_balance);\n",
    "    };"
   ]
  },
  {
   "cell_type": "code",
   "execution_count": 44,
   "metadata": {},
   "outputs": [
    {
     "name": "stdout",
     "output_type": "stream",
     "text": [
      "99799160000000000000\n",
      "100200000000000000000\n"
     ]
    }
   ],
   "source": [
    "check_balances();"
   ]
  },
  {
   "cell_type": "code",
   "execution_count": null,
   "metadata": {},
   "outputs": [],
   "source": []
  }
 ],
 "metadata": {
  "kernelspec": {
   "display_name": "Javascript (Node.js)",
   "language": "javascript",
   "name": "javascript"
  },
  "language_info": {
   "file_extension": ".js",
   "mimetype": "application/javascript",
   "name": "javascript",
   "version": "8.6.0"
  }
 },
 "nbformat": 4,
 "nbformat_minor": 2
}
