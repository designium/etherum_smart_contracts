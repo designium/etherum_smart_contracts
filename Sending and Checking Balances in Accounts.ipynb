{
 "cells": [
  {
   "cell_type": "code",
   "execution_count": 9,
   "metadata": {},
   "outputs": [],
   "source": [
    "var Web3 = require('web3');\n",
    "var web3 = new Web3('http://localhost:8545');"
   ]
  },
  {
   "cell_type": "code",
   "execution_count": 10,
   "metadata": {},
   "outputs": [],
   "source": [
    "async function fetchAccounts() {\n",
    "    let accs = await web3.eth.getAccounts();\n",
    "    return accs;\n",
    "}; \n"
   ]
  },
  {
   "cell_type": "code",
   "execution_count": 11,
   "metadata": {},
   "outputs": [],
   "source": [
    "var b = fetchAccounts().then(function(result){b = result});"
   ]
  },
  {
   "cell_type": "code",
   "execution_count": 12,
   "metadata": {},
   "outputs": [
    {
     "data": {
      "text/plain": [
       "[ '0x01f77BBB04360D04723fd748B43B3304605b6596',\n",
       "  '0x9b4aAb73F8d963E2240ed1ad276f2A760314d14D',\n",
       "  '0x64CE0D0193A84fac7aF24Bb5248eC231c7B47242',\n",
       "  '0x814aa4D14D60ed3caF35f9492C24Cf7244B5ABAd',\n",
       "  '0xA14666BAd234a46aB86cEe909B9B661E5Bf36976',\n",
       "  '0xCEC3dda5785868AE0d3E6A2bA460Cb3eDB857aD9',\n",
       "  '0x0cC482Fc43F3A10Db2C26dD104dc77571AF8fAeF',\n",
       "  '0x1C5Fd17Fd3df3a9e2A5C877e3cf859B90E8dDaB7',\n",
       "  '0x6D035114cd0B9d8775e6bc568e5609D249D9a169',\n",
       "  '0xEC47aCB34bd826faa69Ac124d1972Abb6Bc00518' ]"
      ]
     },
     "execution_count": 12,
     "metadata": {},
     "output_type": "execute_result"
    }
   ],
   "source": [
    "b"
   ]
  },
  {
   "cell_type": "code",
   "execution_count": 13,
   "metadata": {},
   "outputs": [],
   "source": [
    "async function balance() {\n",
    "    let bal = await web3.eth.getBalance(b[0]);\n",
    "    return bal;\n",
    "};"
   ]
  },
  {
   "cell_type": "code",
   "execution_count": 14,
   "metadata": {
    "scrolled": true
   },
   "outputs": [],
   "source": [
    "var c = balance().then(function(result){c = result});"
   ]
  },
  {
   "cell_type": "code",
   "execution_count": 15,
   "metadata": {},
   "outputs": [
    {
     "data": {
      "text/plain": [
       "'100000000000000000000'"
      ]
     },
     "execution_count": 15,
     "metadata": {},
     "output_type": "execute_result"
    }
   ],
   "source": [
    "c"
   ]
  },
  {
   "cell_type": "code",
   "execution_count": 17,
   "metadata": {},
   "outputs": [
    {
     "data": {
      "text/plain": [
       "Promise {\n",
       "  _bitField: 0,\n",
       "  _fulfillmentHandler0: undefined,\n",
       "  _rejectionHandler0: undefined,\n",
       "  _promise0: undefined,\n",
       "  _receiver0: undefined }"
      ]
     },
     "execution_count": 17,
     "metadata": {},
     "output_type": "execute_result"
    }
   ],
   "source": [
    "c = web3.eth.getAccounts().then(function(res){res});"
   ]
  },
  {
   "cell_type": "code",
   "execution_count": 18,
   "metadata": {},
   "outputs": [
    {
     "data": {
      "text/plain": [
       "Promise {\n",
       "  _bitField: 33554432,\n",
       "  _fulfillmentHandler0: undefined,\n",
       "  _rejectionHandler0: undefined,\n",
       "  _promise0: undefined,\n",
       "  _receiver0: undefined }"
      ]
     },
     "execution_count": 18,
     "metadata": {},
     "output_type": "execute_result"
    }
   ],
   "source": [
    "c"
   ]
  },
  {
   "cell_type": "code",
   "execution_count": null,
   "metadata": {},
   "outputs": [],
   "source": []
  }
 ],
 "metadata": {
  "kernelspec": {
   "display_name": "Javascript (Node.js)",
   "language": "javascript",
   "name": "javascript"
  },
  "language_info": {
   "file_extension": ".js",
   "mimetype": "application/javascript",
   "name": "javascript",
   "version": "8.6.0"
  }
 },
 "nbformat": 4,
 "nbformat_minor": 2
}
