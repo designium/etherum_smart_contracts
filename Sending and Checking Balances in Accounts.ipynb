{
 "cells": [
  {
   "cell_type": "code",
   "execution_count": 36,
   "metadata": {},
   "outputs": [],
   "source": [
    "var Web3 = require('web3');\n",
    "var web3 = new Web3('http://localhost:8545');"
   ]
  },
  {
   "cell_type": "code",
   "execution_count": 37,
   "metadata": {},
   "outputs": [],
   "source": [
    "async function fetchAccounts() {\n",
    "    let accs = await web3.eth.getAccounts();\n",
    "    return accs;\n",
    "}; \n"
   ]
  },
  {
   "cell_type": "code",
   "execution_count": 38,
   "metadata": {},
   "outputs": [],
   "source": [
    "var b = fetchAccounts().then(function(result){b = result});"
   ]
  },
  {
   "cell_type": "code",
   "execution_count": 66,
   "metadata": {},
   "outputs": [
    {
     "data": {
      "text/plain": [
       "[ '0x1e03767E901fde658fC877a1ffAbac4DE0612E12',\n",
       "  '0x93fe0C03e04f4De1FFda2C3214AE55a5C7E8B3F5',\n",
       "  '0x7111558ced471E235b90F3FDe4CcFC99d80E8410',\n",
       "  '0x26d05e7Ed7E439A623E1E5cAF5dA4E0e295A33f5',\n",
       "  '0x5500bB90975CF89bb7811FA049248dDC726cB45C',\n",
       "  '0x7894427885Bef3a500bBd9E4F7Cb87c7bCec331b',\n",
       "  '0xff6AC27aA3fd535a5f30a453A18C22483f73D9a1',\n",
       "  '0x8741e7E8554228d04ec078181AFA0012B97E9044',\n",
       "  '0x5Ed544bf5A6960919ca6E5e6D719dCd7C7760a9f',\n",
       "  '0xD91Cbf39203Af3638907A00eeBb4f4819b1AD3D9' ]"
      ]
     },
     "execution_count": 66,
     "metadata": {},
     "output_type": "execute_result"
    }
   ],
   "source": [
    "b"
   ]
  },
  {
   "cell_type": "code",
   "execution_count": 89,
   "metadata": {},
   "outputs": [],
   "source": [
    "async function balance() {\n",
    "    let bal = await web3.eth.getBalance(b[0]);\n",
    "    return bal;\n",
    "};"
   ]
  },
  {
   "cell_type": "code",
   "execution_count": 90,
   "metadata": {
    "scrolled": true
   },
   "outputs": [],
   "source": [
    "var c = balance().then(function(result){c = result});"
   ]
  },
  {
   "cell_type": "code",
   "execution_count": 91,
   "metadata": {},
   "outputs": [
    {
     "data": {
      "text/plain": [
       "'100000000000000000000'"
      ]
     },
     "execution_count": 91,
     "metadata": {},
     "output_type": "execute_result"
    }
   ],
   "source": [
    "c"
   ]
  },
  {
   "cell_type": "code",
   "execution_count": 92,
   "metadata": {},
   "outputs": [],
   "source": [
    "async function blockNumber() {\n",
    "    let number = await web3.eth.getBlockNumber();\n",
    "    return number;\n",
    "};"
   ]
  },
  {
   "cell_type": "code",
   "execution_count": 93,
   "metadata": {},
   "outputs": [],
   "source": [
    "var d = blockNumber().then(function(result){d = result});"
   ]
  },
  {
   "cell_type": "code",
   "execution_count": 94,
   "metadata": {},
   "outputs": [
    {
     "data": {
      "text/plain": [
       "0"
      ]
     },
     "execution_count": 94,
     "metadata": {},
     "output_type": "execute_result"
    }
   ],
   "source": [
    "d"
   ]
  },
  {
   "cell_type": "code",
   "execution_count": 95,
   "metadata": {},
   "outputs": [],
   "source": [
    "async function protocolVersion() {\n",
    "    let number = await web3.eth.getProtocolVersion();\n",
    "    return number;\n",
    "};"
   ]
  },
  {
   "cell_type": "code",
   "execution_count": 96,
   "metadata": {},
   "outputs": [],
   "source": [
    "var e = protocolVersion().then(function(result){d = result});"
   ]
  },
  {
   "cell_type": "code",
   "execution_count": 97,
   "metadata": {},
   "outputs": [
    {
     "data": {
      "text/plain": [
       "Promise { undefined }"
      ]
     },
     "execution_count": 97,
     "metadata": {},
     "output_type": "execute_result"
    }
   ],
   "source": [
    "e"
   ]
  },
  {
   "cell_type": "code",
   "execution_count": 84,
   "metadata": {},
   "outputs": [
    {
     "name": "stdout",
     "output_type": "stream",
     "text": [
      "undefined\n"
     ]
    }
   ],
   "source": [
    "console.log(number);"
   ]
  },
  {
   "cell_type": "code",
   "execution_count": 46,
   "metadata": {},
   "outputs": [
    {
     "data": {
      "text/plain": [
       "Promise {\n",
       "  _bitField: 0,\n",
       "  _fulfillmentHandler0: undefined,\n",
       "  _rejectionHandler0: undefined,\n",
       "  _promise0: undefined,\n",
       "  _receiver0: undefined }"
      ]
     },
     "execution_count": 46,
     "metadata": {},
     "output_type": "execute_result"
    }
   ],
   "source": [
    "c = web3.eth.getAccounts().then(function(res){res});"
   ]
  },
  {
   "cell_type": "code",
   "execution_count": 9,
   "metadata": {},
   "outputs": [
    {
     "data": {
      "text/plain": [
       "Promise {\n",
       "  _bitField: 33554432,\n",
       "  _fulfillmentHandler0: undefined,\n",
       "  _rejectionHandler0: undefined,\n",
       "  _promise0: undefined,\n",
       "  _receiver0: undefined }"
      ]
     },
     "execution_count": 9,
     "metadata": {},
     "output_type": "execute_result"
    }
   ],
   "source": [
    "c"
   ]
  },
  {
   "cell_type": "code",
   "execution_count": null,
   "metadata": {},
   "outputs": [],
   "source": []
  }
 ],
 "metadata": {
  "kernelspec": {
   "display_name": "Javascript (Node.js)",
   "language": "javascript",
   "name": "javascript"
  },
  "language_info": {
   "file_extension": ".js",
   "mimetype": "application/javascript",
   "name": "javascript",
   "version": "8.6.0"
  }
 },
 "nbformat": 4,
 "nbformat_minor": 2
}
