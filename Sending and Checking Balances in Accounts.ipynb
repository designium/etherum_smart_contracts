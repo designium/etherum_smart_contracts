{
 "cells": [
  {
   "cell_type": "code",
   "execution_count": 48,
   "metadata": {},
   "outputs": [],
   "source": [
    "var Web3 = require('web3');\n",
    "var web3 = new Web3('http://localhost:8545');\n",
    "\n",
    "var string = \"\";"
   ]
  },
  {
   "cell_type": "code",
   "execution_count": 40,
   "metadata": {},
   "outputs": [],
   "source": [
    "web3.eth.accounts[0];"
   ]
  },
  {
   "cell_type": "code",
   "execution_count": 54,
   "metadata": {},
   "outputs": [],
   "source": [
    "var accounts = async function fetchAccounts() {\n",
    "    let accs = await web3.eth.getAccounts();\n",
    "    return accs;\n",
    "}; \n"
   ]
  },
  {
   "cell_type": "code",
   "execution_count": 32,
   "metadata": {},
   "outputs": [],
   "source": [
    "async function balance () {\n",
    "    let bal = await web3.eth.getBalance('0xb7de8d7ce700c3b8cff3ba9d07dad15732d63661');\n",
    "    return bal;\n",
    "};"
   ]
  },
  {
   "cell_type": "code",
   "execution_count": 41,
   "metadata": {
    "scrolled": true
   },
   "outputs": [
    {
     "ename": "SyntaxError",
     "evalue": "Unexpected identifier",
     "output_type": "error",
     "traceback": [
      "evalmachine.<anonymous>:1",
      "var balance = await balance();",
      "                    ^^^^^^^",
      "",
      "SyntaxError: Unexpected identifier",
      "    at createScript (vm.js:80:10)",
      "    at Object.runInThisContext (vm.js:139:10)",
      "    at run ([eval]:775:15)",
      "    at onRunRequest ([eval]:620:18)",
      "    at onMessage ([eval]:588:13)",
      "    at emitTwo (events.js:125:13)",
      "    at process.emit (events.js:213:7)",
      "    at emit (internal/child_process.js:774:12)",
      "    at _combinedTickCallback (internal/process/next_tick.js:141:11)",
      "    at process._tickCallback (internal/process/next_tick.js:180:9)"
     ]
    }
   ],
   "source": [
    "var balance = await balance();"
   ]
  },
  {
   "cell_type": "code",
   "execution_count": 49,
   "metadata": {},
   "outputs": [
    {
     "name": "stdout",
     "output_type": "stream",
     "text": [
      "waiting...\n",
      "100000000000000000000\n",
      "result should be here.\n"
     ]
    }
   ],
   "source": [
    "var results = (async() => {\n",
    "    try {\n",
    "    let bal = await balance();\n",
    "        console.log(\"waiting...\");\n",
    "        console.log(await balance());\n",
    "        string = console.log(\"result should be here.\");\n",
    "    return bal;\n",
    "        }\n",
    "    catch (e) {\n",
    "        //whatever\n",
    "    }\n",
    "}\n",
    ")();"
   ]
  },
  {
   "cell_type": "code",
   "execution_count": 37,
   "metadata": {},
   "outputs": [
    {
     "name": "stdout",
     "output_type": "stream",
     "text": [
      "Promise { '100000000000000000000' }\n"
     ]
    }
   ],
   "source": [
    "console.log(results);"
   ]
  },
  {
   "cell_type": "code",
   "execution_count": 22,
   "metadata": {},
   "outputs": [
    {
     "ename": "SyntaxError",
     "evalue": "missing ) after argument list",
     "output_type": "error",
     "traceback": [
      "evalmachine.<anonymous>:1",
      "console.log(await balance());",
      "            ^^^^^",
      "",
      "SyntaxError: missing ) after argument list",
      "    at createScript (vm.js:80:10)",
      "    at Object.runInThisContext (vm.js:139:10)",
      "    at run ([eval]:775:15)",
      "    at onRunRequest ([eval]:620:18)",
      "    at onMessage ([eval]:588:13)",
      "    at emitTwo (events.js:125:13)",
      "    at process.emit (events.js:213:7)",
      "    at emit (internal/child_process.js:774:12)",
      "    at _combinedTickCallback (internal/process/next_tick.js:141:11)",
      "    at process._tickCallback (internal/process/next_tick.js:180:9)"
     ]
    }
   ],
   "source": [
    "console.log(await balance());"
   ]
  },
  {
   "cell_type": "code",
   "execution_count": 23,
   "metadata": {},
   "outputs": [
    {
     "data": {
      "text/plain": [
       "Promise { <pending> }"
      ]
     },
     "execution_count": 23,
     "metadata": {},
     "output_type": "execute_result"
    },
    {
     "name": "stdout",
     "output_type": "stream",
     "text": [
      "100000000000000000000\n"
     ]
    }
   ],
   "source": [
    "balance().then(v => {console.log(v)});"
   ]
  },
  {
   "cell_type": "code",
   "execution_count": 24,
   "metadata": {},
   "outputs": [],
   "source": [
    "web3.eth.accounts[0];"
   ]
  },
  {
   "cell_type": "code",
   "execution_count": 56,
   "metadata": {},
   "outputs": [],
   "source": [
    "let a = accounts();"
   ]
  },
  {
   "cell_type": "code",
   "execution_count": 63,
   "metadata": {},
   "outputs": [
    {
     "name": "stdout",
     "output_type": "stream",
     "text": [
      "Promise { <pending> }\n"
     ]
    }
   ],
   "source": [
    "var b = [];\n",
    "console.log(a.then(function(result){b = result}));"
   ]
  },
  {
   "cell_type": "code",
   "execution_count": 64,
   "metadata": {},
   "outputs": [
    {
     "data": {
      "text/plain": [
       "[ '0xb7de8d7Ce700c3B8CfF3Ba9d07DAd15732D63661',\n",
       "  '0xe5Ed663724eAa9A03cde8f201A3ebC340AcDFa6e',\n",
       "  '0x22B9d807496e9Cd62bE5a1BBbf649cdF97EE0287',\n",
       "  '0xc94A5529982E1026466DcFf75b8577AFd2680C6b',\n",
       "  '0x0dae1cCD8aFd1738fc4b1b297C430F16808402Af',\n",
       "  '0x9c3F13d4fF41C5d7F1D12f8131CD500b6D9A0043',\n",
       "  '0x8cc4Dc60F28abA8A26c6E9E81Fed680c4e5b1c9e',\n",
       "  '0x8D7FA8a7854510Ee749bf66cbAf8A1eF6bF59998',\n",
       "  '0xF9f3404ce550be11Af292342731E8501BA24F8Df',\n",
       "  '0x8501Fdd87B8E62d03981A1e2b2335b186fDC0ad0' ]"
      ]
     },
     "execution_count": 64,
     "metadata": {},
     "output_type": "execute_result"
    }
   ],
   "source": [
    "b"
   ]
  },
  {
   "cell_type": "code",
   "execution_count": 26,
   "metadata": {},
   "outputs": [],
   "source": [
    "var accountz = (async() => {\n",
    "    try {\n",
    "    let accs = await accounts();\n",
    "    return accs;\n",
    "        }\n",
    "    catch (e) {\n",
    "        //whatever\n",
    "    }\n",
    "}\n",
    ")();"
   ]
  },
  {
   "cell_type": "code",
   "execution_count": 27,
   "metadata": {},
   "outputs": [
    {
     "data": {
      "text/plain": [
       "Promise {\n",
       "  [ '0xb7de8d7Ce700c3B8CfF3Ba9d07DAd15732D63661',\n",
       "  '0xe5Ed663724eAa9A03cde8f201A3ebC340AcDFa6e',\n",
       "  '0x22B9d807496e9Cd62bE5a1BBbf649cdF97EE0287',\n",
       "  '0xc94A5529982E1026466DcFf75b8577AFd2680C6b',\n",
       "  '0x0dae1cCD8aFd1738fc4b1b297C430F16808402Af',\n",
       "  '0x9c3F13d4fF41C5d7F1D12f8131CD500b6D9A0043',\n",
       "  '0x8cc4Dc60F28abA8A26c6E9E81Fed680c4e5b1c9e',\n",
       "  '0x8D7FA8a7854510Ee749bf66cbAf8A1eF6bF59998',\n",
       "  '0xF9f3404ce550be11Af292342731E8501BA24F8Df',\n",
       "  '0x8501Fdd87B8E62d03981A1e2b2335b186fDC0ad0' ] }"
      ]
     },
     "execution_count": 27,
     "metadata": {},
     "output_type": "execute_result"
    }
   ],
   "source": [
    "accountz"
   ]
  },
  {
   "cell_type": "code",
   "execution_count": 20,
   "metadata": {},
   "outputs": [
    {
     "ename": "SyntaxError",
     "evalue": "Unexpected token {",
     "output_type": "error",
     "traceback": [
      "evalmachine.<anonymous>:1",
      "web3.eth.getAccounts() {",
      "                       ^",
      "",
      "SyntaxError: Unexpected token {",
      "    at createScript (vm.js:80:10)",
      "    at Object.runInThisContext (vm.js:139:10)",
      "    at run ([eval]:775:15)",
      "    at onRunRequest ([eval]:620:18)",
      "    at onMessage ([eval]:588:13)",
      "    at emitTwo (events.js:125:13)",
      "    at process.emit (events.js:213:7)",
      "    at emit (internal/child_process.js:774:12)",
      "    at _combinedTickCallback (internal/process/next_tick.js:141:11)",
      "    at process._tickCallback (internal/process/next_tick.js:180:9)"
     ]
    }
   ],
   "source": [
    "web3.eth.getAccounts() {\n",
    "    var account = accounts[0];\n",
    "};"
   ]
  },
  {
   "cell_type": "code",
   "execution_count": null,
   "metadata": {},
   "outputs": [],
   "source": []
  }
 ],
 "metadata": {
  "kernelspec": {
   "display_name": "Javascript (Node.js)",
   "language": "javascript",
   "name": "javascript"
  },
  "language_info": {
   "file_extension": ".js",
   "mimetype": "application/javascript",
   "name": "javascript",
   "version": "8.6.0"
  }
 },
 "nbformat": 4,
 "nbformat_minor": 2
}
